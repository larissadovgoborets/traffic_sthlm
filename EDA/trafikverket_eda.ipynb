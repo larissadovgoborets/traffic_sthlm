{
 "cells": [
  {
   "cell_type": "markdown",
   "metadata": {},
   "source": [
    "# Trafikverket EDA"
   ]
  },
  {
   "cell_type": "markdown",
   "metadata": {},
   "source": [
    "## Load the modules\n",
    "\n",
    "Load the necessary modules and create a function to get traffic information from Trafikverket's API."
   ]
  },
  {
   "cell_type": "code",
   "execution_count": 26,
   "metadata": {},
   "outputs": [],
   "source": [
    "import requests\n",
    "from dotenv import load_dotenv\n",
    "import os\n",
    "import pprint\n",
    "\n",
    "load_dotenv()\n",
    "API_key = os.getenv('API_KEY')\n",
    "\n",
    "url = 'https://api.trafikinfo.trafikverket.se/v2/data.json'\n",
    "\n",
    "headers = {\n",
    "    'Content-Type': 'application/xml', \n",
    "}\n",
    "\n",
    "filter = \"\"\"<EQ name = \"Deleted\" value = \"false\"/>\"\"\"\n",
    "\n",
    "# dictionary with object types and their corresponding schema versions\n",
    "object_types = {\n",
    "    # Väg - Trafikinformation\n",
    "    'Camera': 1,\n",
    "    'FerryAnnouncement': 1.2, \n",
    "    'FerryRoute': 1.2,\n",
    "    'FrostDepthMeasurepoint': 1,\n",
    "    'FrostDepthObservation': 1,\n",
    "    'Icon': 1.1,\n",
    "    'Parking': 1.4,\n",
    "    'RoadCondition': 1.2,\n",
    "    'Situation': 1.5, \n",
    "    'TrafficFlow': 1.5, \n",
    "    'TravelTimeRoute': 1.6,\n",
    "    'WeatherMeasurepoint': 2.1,\n",
    "    'WeatherObservation': 2.1,   \n",
    "    # Järnväg - Trafikinformation\n",
    "    'RailCrossing': 1.5, \n",
    "    'ReasonCode': 1, \n",
    "    'TrainAnnouncement': 1.9,\n",
    "    'TrainMessage': 1.7,\n",
    "    'TrainPosition': 1.1,\n",
    "    'TrainStation': 1.5,\n",
    "    'TrainStationMessage': 1}\n",
    "\n",
    "def xml_query(API_key, filter, object_type, limit = None):\n",
    "    if limit != None:\n",
    "        query = f'''<QUERY objecttype=\"{object_type}\" schemaversion=\"{object_types[object_type]}\" limit=\"{limit}\">'''\n",
    "\n",
    "    else:\n",
    "      query = f'''<QUERY objecttype=\"{object_type}\" schemaversion=\"{object_types[object_type]}\">'''\n",
    "\n",
    "    if object_type in ['Situation', 'TrafficFlow', 'TrainMessage']: # object types that can filter on CountyNo\n",
    "        filter += f'''<EQ name = \"CountyNo\" value = \"1\"/>''' # CountyNo for Stockholm\n",
    "    \n",
    "    xml_data = f'''<?xml version=\"1.0\" encoding=\"UTF-8\"?>\n",
    "      <REQUEST>\n",
    "        <LOGIN authenticationkey=\"{API_key}\"/>\n",
    "        {query}\n",
    "          <FILTER>{filter}</FILTER>\n",
    "        </QUERY>\n",
    "      </REQUEST>'''\n",
    "    \n",
    "    return xml_data\n",
    "\n"
   ]
  },
  {
   "cell_type": "code",
   "execution_count": 27,
   "metadata": {},
   "outputs": [
    {
     "name": "stdout",
     "output_type": "stream",
     "text": [
      "('{ '\n",
      " '\"RESPONSE\":{\"RESULT\":[{\"TrafficFlow\":[{\"SiteId\":40,\"MeasurementTime\":\"2024-10-15T18:19:00.000+02:00\",\"MeasurementOrCalculationPeriod\":60,\"VehicleType\":\"anyVehicle\",\"VehicleFlowRate\":840,\"AverageVehicleSpeed\":62.92,\"CountyNo\":1,\"Deleted\":false, '\n",
      " '\"Geometry\":{\"SWEREF99TM\":\"POINT (677754.96 6578623.19)\",\"WGS84\":\"POINT '\n",
      " '(18.122711 '\n",
      " '59.308964)\"},\"RegionId\":4,\"DataQuality\":\"bad\",\"SpecificLane\":\"lane1\",\"MeasurementSide\":\"unknown\",\"ModifiedTime\":\"2024-10-15T16:19:05.020Z\"},{\"SiteId\":4306,\"MeasurementTime\":\"2024-10-15T18:19:00.000+02:00\",\"MeasurementOrCalculationPeriod\":60,\"VehicleType\":\"anyVehicle\",\"VehicleFlowRate\":720,\"AverageVehicleSpeed\":67.8,\"CountyNo\":1,\"Deleted\":false, '\n",
      " '\"Geometry\":{\"SWEREF99TM\":\"POINT (674788.02 6583302.84)\",\"WGS84\":\"POINT '\n",
      " '(18.074469 '\n",
      " '59.352165)\"},\"RegionId\":4,\"DataQuality\":\"good\",\"SpecificLane\":\"lane2\",\"MeasurementSide\":\"unknown\",\"ModifiedTime\":\"2024-10-15T16:19:12.836Z\"},{\"SiteId\":861,\"MeasurementTime\":\"2024-10-15T18:19:00.000+02:00\",\"MeasurementOrCalculationPeriod\":60,\"VehicleType\":\"anyVehicle\",\"VehicleFlowRate\":360,\"AverageVehicleSpeed\":101.34,\"CountyNo\":1,\"Deleted\":false, '\n",
      " '\"Geometry\":{\"SWEREF99TM\":\"POINT (651018.96 6563771.14)\",\"WGS84\":\"POINT '\n",
      " '(17.64332 '\n",
      " '59.186134)\"},\"RegionId\":4,\"DataQuality\":\"good\",\"SpecificLane\":\"lane2\",\"MeasurementSide\":\"unknown\",\"ModifiedTime\":\"2024-10-15T16:19:11.289Z\"},{\"SiteId\":1471,\"MeasurementTime\":\"2024-10-15T18:19:00.000+02:00\",\"MeasurementOrCalculationPeriod\":60,\"VehicleType\":\"anyVehicle\",\"VehicleFlowRate\":900,\"AverageVehicleSpeed\":79.9,\"CountyNo\":1,\"Deleted\":false, '\n",
      " '\"Geometry\":{\"SWEREF99TM\":\"POINT (652805.94 6565755.17)\",\"WGS84\":\"POINT '\n",
      " '(17.675951 '\n",
      " '59.203293)\"},\"RegionId\":4,\"DataQuality\":\"good\",\"SpecificLane\":\"lane2\",\"MeasurementSide\":\"unknown\",\"ModifiedTime\":\"2024-10-15T16:19:10.130Z\"},{\"SiteId\":174,\"MeasurementTime\":\"2024-10-15T18:19:00.000+02:00\",\"MeasurementOrCalculationPeriod\":60,\"VehicleType\":\"anyVehicle\",\"VehicleFlowRate\":600,\"AverageVehicleSpeed\":88.6,\"CountyNo\":1,\"Deleted\":false, '\n",
      " '\"Geometry\":{\"SWEREF99TM\":\"POINT (656154.96 6566753.11)\",\"WGS84\":\"POINT '\n",
      " '(17.735239 '\n",
      " '59.211025)\"},\"RegionId\":4,\"DataQuality\":\"good\",\"SpecificLane\":\"lane1\",\"MeasurementSide\":\"unknown\",\"ModifiedTime\":\"2024-10-15T16:19:12.836Z\"},{\"SiteId\":1183,\"MeasurementTime\":\"2024-10-15T18:19:00.000+02:00\",\"MeasurementOrCalculationPeriod\":60,\"VehicleType\":\"anyVehicle\",\"VehicleFlowRate\":300,\"AverageVehicleSpeed\":59.62,\"CountyNo\":1,\"Deleted\":false, '\n",
      " '\"Geometry\":{\"SWEREF99TM\":\"POINT (673561 6576993.92)\",\"WGS84\":\"POINT '\n",
      " '(18.047848 '\n",
      " '59.296097)\"},\"RegionId\":4,\"DataQuality\":\"bad\",\"SpecificLane\":\"lane1\",\"MeasurementSide\":\"unknown\",\"ModifiedTime\":\"2024-10-15T16:19:09.430Z\"},{\"SiteId\":661,\"MeasurementTime\":\"2024-10-15T18:19:00.000+02:00\",\"MeasurementOrCalculationPeriod\":60,\"VehicleType\":\"anyVehicle\",\"VehicleFlowRate\":960,\"AverageVehicleSpeed\":31.19,\"CountyNo\":1,\"Deleted\":false, '\n",
      " '\"Geometry\":{\"SWEREF99TM\":\"POINT (673560.02 6577001.1)\",\"WGS84\":\"POINT '\n",
      " '(18.047836 '\n",
      " '59.29616)\"},\"RegionId\":4,\"DataQuality\":\"good\",\"SpecificLane\":\"lane3\",\"MeasurementSide\":\"unknown\",\"ModifiedTime\":\"2024-10-15T16:19:04.682Z\"},{\"SiteId\":1155,\"MeasurementTime\":\"2024-10-15T18:19:00.000+02:00\",\"MeasurementOrCalculationPeriod\":60,\"VehicleType\":\"anyVehicle\",\"VehicleFlowRate\":720,\"AverageVehicleSpeed\":68.79,\"CountyNo\":1,\"Deleted\":false, '\n",
      " '\"Geometry\":{\"SWEREF99TM\":\"POINT (674026.99 6576474.18)\",\"WGS84\":\"POINT '\n",
      " '(18.0556 '\n",
      " '59.291245)\"},\"RegionId\":4,\"DataQuality\":\"bad\",\"SpecificLane\":\"lane1\",\"MeasurementSide\":\"unknown\",\"ModifiedTime\":\"2024-10-15T16:19:05.167Z\"},{\"SiteId\":797,\"MeasurementTime\":\"2024-10-15T18:19:00.000+02:00\",\"MeasurementOrCalculationPeriod\":60,\"VehicleType\":\"anyVehicle\",\"VehicleFlowRate\":900,\"AverageVehicleSpeed\":65.86,\"CountyNo\":1,\"Deleted\":false, '\n",
      " '\"Geometry\":{\"SWEREF99TM\":\"POINT (673338.96 6577008.01)\",\"WGS84\":\"POINT '\n",
      " '(18.043966 '\n",
      " '59.296314)\"},\"RegionId\":4,\"DataQuality\":\"bad\",\"SpecificLane\":\"lane2\",\"MeasurementSide\":\"unknown\",\"ModifiedTime\":\"2024-10-15T16:19:04.470Z\"},{\"SiteId\":614,\"MeasurementTime\":\"2024-10-15T18:19:00.000+02:00\",\"MeasurementOrCalculationPeriod\":60,\"VehicleType\":\"anyVehicle\",\"VehicleFlowRate\":1260,\"AverageVehicleSpeed\":58.49,\"CountyNo\":1,\"Deleted\":false, '\n",
      " '\"Geometry\":{\"SWEREF99TM\":\"POINT (672453 6577193.9)\",\"WGS84\":\"POINT '\n",
      " '(18.028582 '\n",
      " '59.298344)\"},\"RegionId\":4,\"DataQuality\":\"bad\",\"SpecificLane\":\"lane2\",\"MeasurementSide\":\"unknown\",\"ModifiedTime\":\"2024-10-15T16:19:12.428Z\"}]}]}}')\n"
     ]
    }
   ],
   "source": [
    "xml_data = xml_query(API_key, filter, 'TrafficFlow', 10)\n",
    "\n",
    "traffic_flow = requests.post(url=url, data=xml_data, headers=headers)\n",
    "\n",
    "pprint.pprint(traffic_flow.text)"
   ]
  },
  {
   "cell_type": "code",
   "execution_count": null,
   "metadata": {},
   "outputs": [],
   "source": []
  }
 ],
 "metadata": {
  "kernelspec": {
   "display_name": ".venv",
   "language": "python",
   "name": "python3"
  },
  "language_info": {
   "codemirror_mode": {
    "name": "ipython",
    "version": 3
   },
   "file_extension": ".py",
   "mimetype": "text/x-python",
   "name": "python",
   "nbconvert_exporter": "python",
   "pygments_lexer": "ipython3",
   "version": "3.10.11"
  }
 },
 "nbformat": 4,
 "nbformat_minor": 2
}
